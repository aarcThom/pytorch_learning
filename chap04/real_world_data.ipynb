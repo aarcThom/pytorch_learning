{
 "cells": [
  {
   "cell_type": "code",
   "execution_count": 38,
   "metadata": {},
   "outputs": [],
   "source": [
    "import numpy as np\n",
    "import torch\n",
    "import imageio\n",
    "import os"
   ]
  },
  {
   "cell_type": "markdown",
   "metadata": {},
   "source": [
    "# Working with Raster Images\n",
    "---"
   ]
  },
  {
   "cell_type": "markdown",
   "metadata": {},
   "source": [
    "### Reading a Single Image\n",
    "We will use the library, *Imageio*. *TorchVision* is also a great default for image loading."
   ]
  },
  {
   "cell_type": "code",
   "execution_count": 39,
   "metadata": {},
   "outputs": [
    {
     "name": "stderr",
     "output_type": "stream",
     "text": [
      "/tmp/ipykernel_26082/1683439787.py:1: DeprecationWarning: Starting with ImageIO v3 the behavior of this function will switch to that of iio.v3.imread. To keep the current behavior (and make this warning disappear) use `import imageio.v2 as imageio` or call `imageio.v2.imread` directly.\n",
      "  img_arr = imageio.imread('../chap04/data/pug_img.jpg')\n"
     ]
    },
    {
     "data": {
      "text/plain": [
       "(1070, 1500, 3)"
      ]
     },
     "execution_count": 39,
     "metadata": {},
     "output_type": "execute_result"
    }
   ],
   "source": [
    "img_arr = imageio.imread('../chap04/data/pug_img.jpg')\n",
    "img_arr.shape"
   ]
  },
  {
   "cell_type": "markdown",
   "metadata": {},
   "source": [
    "Imageio's function `imread` outputs a NumPy-like array that we will use to obtain a tensor. However, this array output is laid out as HEIGHT x WIDTH x RGB CHANNELS. PyTorch needs image data tensors to be laid out as CHANNELS x HEIGHT x WIDTH"
   ]
  },
  {
   "cell_type": "markdown",
   "metadata": {},
   "source": [
    "### Changing the Image Array's Layout\n",
    "We can use the PyTorch method `permute` to easily reorganize the layout of a tensor"
   ]
  },
  {
   "cell_type": "code",
   "execution_count": 40,
   "metadata": {},
   "outputs": [],
   "source": [
    "img = torch.from_numpy(img_arr)\n",
    "img = img.permute(2, 0, 1) #select channels, then height, then width"
   ]
  },
  {
   "cell_type": "markdown",
   "metadata": {},
   "source": [
    "### Reading Multiple Images\n",
    "We have 3 images of cats. Rather than creating 3 tensors corresponding to the 3 images and then using `stack` to combine them into one tensor, it's more efficient to allocate a tensor of appropriate size and fill it with the images."
   ]
  },
  {
   "cell_type": "code",
   "execution_count": 41,
   "metadata": {},
   "outputs": [],
   "source": [
    "#getting a list of the files first so I can have a parametric batch size\n",
    "data_dir = '../chap04/data/cats/'\n",
    "file_names = [name for name in os.listdir(data_dir) if os.path.splitext(name)[-1] == '.png']\n",
    "batch_size = len(file_names)\n"
   ]
  },
  {
   "cell_type": "code",
   "execution_count": 42,
   "metadata": {},
   "outputs": [],
   "source": [
    "#initializing the holder tensor\n",
    "batch = torch.zeros(batch_size, 3, 256, 256, dtype=torch.uint8) # samples, channels, height, width"
   ]
  },
  {
   "cell_type": "code",
   "execution_count": 43,
   "metadata": {},
   "outputs": [
    {
     "name": "stderr",
     "output_type": "stream",
     "text": [
      "/tmp/ipykernel_26082/2399130317.py:2: DeprecationWarning: Starting with ImageIO v3 the behavior of this function will switch to that of iio.v3.imread. To keep the current behavior (and make this warning disappear) use `import imageio.v2 as imageio` or call `imageio.v2.imread` directly.\n",
      "  img_arr = imageio.imread(os.path.join(data_dir, filename))\n"
     ]
    },
    {
     "data": {
      "text/plain": [
       "torch.float32"
      ]
     },
     "execution_count": 43,
     "metadata": {},
     "output_type": "execute_result"
    }
   ],
   "source": [
    "for i, filename in enumerate(file_names):\n",
    "    img_arr = imageio.imread(os.path.join(data_dir, filename))\n",
    "    img_t = torch.from_numpy(img_arr)\n",
    "    img_t = img_t.permute(2,0,1) # the proper pytorch layout\n",
    "    \n",
    "    #png images will sometimes have an alpha channel. To ensure we are only grabbing the RGB channels, we do the following:\n",
    "    img_t = img_t[:3]\n",
    "    batch[i] = img_t # assign the image to the holder tensor\n",
    "\n",
    "batch = batch.float() # converting the bytes to floats for the next step\n",
    "batch.dtype"
   ]
  },
  {
   "cell_type": "markdown",
   "metadata": {},
   "source": [
    "### Normalizing the data\n",
    "NNs work best when data is normalized from 0 to 1 or from -1 to 1. The best way to do so is to compute the mean and standard deviation of the input data and scale it so that the output has zero mean and unit standard deviation across each channel.\n",
    "\n",
    "*Note* This does not mean that we need a range of 0 to one. We can also have a *mean* of 0, and a *standard deviation* of 1."
   ]
  },
  {
   "cell_type": "code",
   "execution_count": 44,
   "metadata": {},
   "outputs": [
    {
     "name": "stdout",
     "output_type": "stream",
     "text": [
      "tensor(-2.8147e-08) tensor(1.0000)\n"
     ]
    }
   ],
   "source": [
    "n_channels = batch.shape[1] #looking at the RGB channels\n",
    "\n",
    "for c in range(n_channels):\n",
    "    mean = torch.mean(batch[:, c]) # mean of each channel for all images\n",
    "    std = torch.std(batch[:, c]) # Standard deviation of each channel for all images\n",
    "    batch[:, c] = (batch[:, c] - mean) / std\n",
    "\n",
    "print(batch.mean(), batch.std())"
   ]
  },
  {
   "cell_type": "markdown",
   "metadata": {},
   "source": [
    "# Working with Volumetric Data\n",
    "---"
   ]
  },
  {
   "cell_type": "markdown",
   "metadata": {},
   "source": [
    "CT Scans map slices of the body, displaying density as intensity. For example, bone will be bright white, and soft tissue will be darker grey. <br>\n",
    "<br>\n",
    "Since CT scans have a single intensity channel, the channel dimension is often left out of the raw data. The raw data would be stored like : *sliceNo X Density X height X width*. "
   ]
  },
  {
   "cell_type": "markdown",
   "metadata": {},
   "source": [
    "We can use the function `unsqueeze` - [see docs.](https://pytorch.org/docs/stable/generated/torch.unsqueeze.html) - to add the channel dimension around the density dimension, giving us a layout like: *sliceNo X channel X density X height X width*."
   ]
  },
  {
   "cell_type": "code",
   "execution_count": 45,
   "metadata": {},
   "outputs": [
    {
     "name": "stdout",
     "output_type": "stream",
     "text": [
      "Reading DICOM (examining files): 1/198 files (0.5198/198 files (100.0%)\n",
      "  Found 1 correct series.\n",
      "Reading DICOM (loading data): 99/99  (100.0%)\n"
     ]
    },
    {
     "data": {
      "text/plain": [
       "(99, 512, 512)"
      ]
     },
     "execution_count": 45,
     "metadata": {},
     "output_type": "execute_result"
    }
   ],
   "source": [
    "import imageio\n",
    "\n",
    "dir_path = \"../chap04/data/ct_scans/\"\n",
    "vol_arr = imageio.volread(dir_path, 'DICOM')\n",
    "vol_arr.shape # we will see our data will have a shape (density, height, width)"
   ]
  },
  {
   "cell_type": "code",
   "execution_count": 46,
   "metadata": {},
   "outputs": [
    {
     "name": "stdout",
     "output_type": "stream",
     "text": [
      "The initial data type is int16\n"
     ]
    },
    {
     "data": {
      "text/plain": [
       "torch.Size([1, 99, 512, 512])"
      ]
     },
     "execution_count": 46,
     "metadata": {},
     "output_type": "execute_result"
    }
   ],
   "source": [
    "print(f'The initial data type is {vol_arr.dtype}')\n",
    "vol = torch.from_numpy(vol_arr).float() # convert from int16 to float\n",
    "\n",
    "vol = torch.unsqueeze(vol, 0) # Add a dimension around density (almost like graft)\n",
    "vol.shape"
   ]
  },
  {
   "cell_type": "markdown",
   "metadata": {},
   "source": [
    "# Representating Tabular Data\n",
    "---"
   ]
  },
  {
   "cell_type": "markdown",
   "metadata": {},
   "source": [
    "Rectangular data is often not homogenous. For instance, you might have a column letting you know what fruit is for sale (text) and another column representing weight (a number). The first step in working with tabular data is to ***encode*** heterogeneous, real-world data into a tensor of floating-point numbers."
   ]
  },
  {
   "cell_type": "code",
   "execution_count": 47,
   "metadata": {},
   "outputs": [
    {
     "data": {
      "text/plain": [
       "array([[ 7.  ,  0.27,  0.36, ...,  0.45,  8.8 ,  6.  ],\n",
       "       [ 6.3 ,  0.3 ,  0.34, ...,  0.49,  9.5 ,  6.  ],\n",
       "       [ 8.1 ,  0.28,  0.4 , ...,  0.44, 10.1 ,  6.  ],\n",
       "       ...,\n",
       "       [ 6.5 ,  0.24,  0.19, ...,  0.46,  9.4 ,  6.  ],\n",
       "       [ 5.5 ,  0.29,  0.3 , ...,  0.38, 12.8 ,  7.  ],\n",
       "       [ 6.  ,  0.21,  0.38, ...,  0.32, 11.8 ,  6.  ]], dtype=float32)"
      ]
     },
     "execution_count": 47,
     "metadata": {},
     "output_type": "execute_result"
    }
   ],
   "source": [
    "# loading the winequality.csv\n",
    "import csv\n",
    "\n",
    "wine_path = \"../chap04/data/winequality.csv\"\n",
    "wineq_np = np.loadtxt(wine_path, dtype=np.float32, delimiter=\";\", skiprows=1)\n",
    "wineq_np"
   ]
  },
  {
   "cell_type": "code",
   "execution_count": 48,
   "metadata": {},
   "outputs": [
    {
     "data": {
      "text/plain": [
       "((4898, 12),\n",
       " ['fixed acidity',\n",
       "  'volatile acidity',\n",
       "  'citric acid',\n",
       "  'residual sugar',\n",
       "  'chlorides',\n",
       "  'free sulfur dioxide',\n",
       "  'total sulfur dioxide',\n",
       "  'density',\n",
       "  'pH',\n",
       "  'sulphates',\n",
       "  'alcohol',\n",
       "  'quality'])"
      ]
     },
     "execution_count": 48,
     "metadata": {},
     "output_type": "execute_result"
    }
   ],
   "source": [
    "# checking the header row against the shape to make sure all data has been read\n",
    "col_list = next(csv.reader(open(wine_path), delimiter=\";\"))\n",
    "\n",
    "wineq_np.shape, col_list"
   ]
  },
  {
   "cell_type": "code",
   "execution_count": 49,
   "metadata": {},
   "outputs": [
    {
     "data": {
      "text/plain": [
       "(torch.Size([4898, 12]), torch.float32)"
      ]
     },
     "execution_count": 49,
     "metadata": {},
     "output_type": "execute_result"
    }
   ],
   "source": [
    "#convert the numpy array to a PyTorch tensor:\n",
    "wineq = torch.from_numpy(wineq_np)\n",
    "wineq.shape, wineq.dtype"
   ]
  },
  {
   "cell_type": "markdown",
   "metadata": {},
   "source": [
    "### Representing Scores\n",
    "We have two options: we could treat the score as a continuous variable / as a real number and perform regression or we could treat it as a label and try to guess the label based on the chemical analysis.\n",
    "<br>\n",
    "In both approaches, we need to remove the score from the input data tensor so we can use the score as the ground truth without it being an input."
   ]
  },
  {
   "cell_type": "code",
   "execution_count": 50,
   "metadata": {},
   "outputs": [
    {
     "data": {
      "text/plain": [
       "(tensor([[ 7.0000,  0.2700,  0.3600,  ...,  3.0000,  0.4500,  8.8000],\n",
       "         [ 6.3000,  0.3000,  0.3400,  ...,  3.3000,  0.4900,  9.5000],\n",
       "         [ 8.1000,  0.2800,  0.4000,  ...,  3.2600,  0.4400, 10.1000],\n",
       "         ...,\n",
       "         [ 6.5000,  0.2400,  0.1900,  ...,  2.9900,  0.4600,  9.4000],\n",
       "         [ 5.5000,  0.2900,  0.3000,  ...,  3.3400,  0.3800, 12.8000],\n",
       "         [ 6.0000,  0.2100,  0.3800,  ...,  3.2600,  0.3200, 11.8000]]),\n",
       " torch.Size([4898, 11]))"
      ]
     },
     "execution_count": 50,
     "metadata": {},
     "output_type": "execute_result"
    }
   ],
   "source": [
    "data = wineq[:, :-1] # select all columns except the last one\n",
    "data, data.shape"
   ]
  },
  {
   "cell_type": "code",
   "execution_count": 51,
   "metadata": {},
   "outputs": [
    {
     "data": {
      "text/plain": [
       "(tensor([6., 6., 6.,  ..., 6., 7., 6.]), torch.Size([4898]))"
      ]
     },
     "execution_count": 51,
     "metadata": {},
     "output_type": "execute_result"
    }
   ],
   "source": [
    "target = wineq[:, -1] # select the last column of all rows\n",
    "target, target.shape"
   ]
  },
  {
   "cell_type": "markdown",
   "metadata": {},
   "source": [
    "If we want to treat the `target` tensor as a simple integer vector of scores (continuous), we can do this:"
   ]
  },
  {
   "cell_type": "code",
   "execution_count": 52,
   "metadata": {},
   "outputs": [
    {
     "data": {
      "text/plain": [
       "(tensor([6, 6, 6,  ..., 6, 7, 6]), torch.int64)"
      ]
     },
     "execution_count": 52,
     "metadata": {},
     "output_type": "execute_result"
    }
   ],
   "source": [
    "cont_target = wineq[:, -1].long()\n",
    "cont_target, cont_target.dtype"
   ]
  },
  {
   "cell_type": "markdown",
   "metadata": {},
   "source": [
    "### One-Hot Encoding\n",
    "We can also use *one-hot encoding*. Each score out of 10, would be encoded as a vector with a dimension of 10, where all attributes are zero, except for the scored mapped as an index, which is one. For example: <br>\n",
    "<br>\n",
    "$A~score~of~5~out~of~10 = (0, 0, 0, 0, 1, 0, 0, 0, 0, 0)$"
   ]
  },
  {
   "cell_type": "markdown",
   "metadata": {},
   "source": [
    "*One-hot encoding* is appropriate where there is no implied ordering or distance or, where there are no fractional values between scores. See *Continuous, Ordinal, and Categorical Values - pg. 80*."
   ]
  },
  {
   "cell_type": "code",
   "execution_count": 53,
   "metadata": {},
   "outputs": [],
   "source": [
    "target_onehot = torch.zeros(target.shape[0], 10) #create a tensor with data length rows and 10 columns"
   ]
  },
  {
   "cell_type": "code",
   "execution_count": 54,
   "metadata": {},
   "outputs": [
    {
     "data": {
      "text/plain": [
       "tensor([[0., 0., 0.,  ..., 0., 0., 0.],\n",
       "        [0., 0., 0.,  ..., 0., 0., 0.],\n",
       "        [0., 0., 0.,  ..., 0., 0., 0.],\n",
       "        ...,\n",
       "        [0., 0., 0.,  ..., 0., 0., 0.],\n",
       "        [0., 0., 0.,  ..., 1., 0., 0.],\n",
       "        [0., 0., 0.,  ..., 0., 0., 0.]])"
      ]
     },
     "execution_count": 54,
     "metadata": {},
     "output_type": "execute_result"
    }
   ],
   "source": [
    "target_onehot.scatter_(1, target.long().unsqueeze(1), 1.0)"
   ]
  },
  {
   "cell_type": "markdown",
   "metadata": {},
   "source": [
    "\n",
    "Remember, since the method `scatter_` has the trailing underscore, it modifies the tensor in place. <br>\n",
    "\n",
    "\n",
    "As per the [docs](https://pytorch.org/docs/stable/generated/torch.Tensor.scatter_.html#torch.Tensor.scatter_), the parameters for `scatter_` are: \n",
    "* **dim (int)** – the axis along which to index\n",
    "\n",
    "* **index (LongTensor)** – the indices of elements to scatter, can be either empty or of the same dimensionality as src. When empty, the operation returns self unchanged.\n",
    "\n",
    "* **src (Tensor or float)** – the source element(s) to scatter.\n",
    "\n",
    "So for the above, we are saying, *for each row (axis 1), at the index specified by the last column of `target`, insert a `1.0`"
   ]
  },
  {
   "cell_type": "markdown",
   "metadata": {},
   "source": [
    "### Normalizing the Wine Data"
   ]
  },
  {
   "cell_type": "code",
   "execution_count": 55,
   "metadata": {},
   "outputs": [
    {
     "data": {
      "text/plain": [
       "tensor([6.8548e+00, 2.7824e-01, 3.3419e-01, 6.3914e+00, 4.5772e-02, 3.5308e+01,\n",
       "        1.3836e+02, 9.9403e-01, 3.1883e+00, 4.8985e-01, 1.0514e+01])"
      ]
     },
     "execution_count": 55,
     "metadata": {},
     "output_type": "execute_result"
    }
   ],
   "source": [
    "data_mean = torch.mean(data, dim=0) # find the mean for each column\n",
    "data_mean"
   ]
  },
  {
   "cell_type": "markdown",
   "metadata": {},
   "source": [
    "The `dim=0` confused me. The 0th dimension is the row, so wouldn't the above take the mean per each row? Paraphrase from [this article](https://towardsdatascience.com/understanding-dimensions-in-pytorch-6edf9972d3be):<br><br>\n",
    "*The way to understand the “dim” of pyTorch operations is that it collapses the specified axis. So when it collapses the axis 0 (the row), it becomes just one row (it takes the mean column-wise).*"
   ]
  },
  {
   "cell_type": "code",
   "execution_count": 56,
   "metadata": {},
   "outputs": [
    {
     "data": {
      "text/plain": [
       "tensor([7.1211e-01, 1.0160e-02, 1.4646e-02, 2.5726e+01, 4.7733e-04, 2.8924e+02,\n",
       "        1.8061e+03, 8.9455e-06, 2.2801e-02, 1.3025e-02, 1.5144e+00])"
      ]
     },
     "execution_count": 56,
     "metadata": {},
     "output_type": "execute_result"
    }
   ],
   "source": [
    "data_var = torch.var(data, dim=0) # calculate the variance for each column\n",
    "data_var"
   ]
  },
  {
   "cell_type": "code",
   "execution_count": 57,
   "metadata": {},
   "outputs": [
    {
     "data": {
      "text/plain": [
       "tensor([[ 1.7208e-01, -8.1761e-02,  2.1326e-01,  ..., -1.2468e+00,\n",
       "         -3.4915e-01, -1.3930e+00],\n",
       "        [-6.5743e-01,  2.1587e-01,  4.7996e-02,  ...,  7.3995e-01,\n",
       "          1.3422e-03, -8.2419e-01],\n",
       "        [ 1.4756e+00,  1.7450e-02,  5.4378e-01,  ...,  4.7505e-01,\n",
       "         -4.3677e-01, -3.3663e-01],\n",
       "        ...,\n",
       "        [-4.2043e-01, -3.7940e-01, -1.1915e+00,  ..., -1.3130e+00,\n",
       "         -2.6153e-01, -9.0545e-01],\n",
       "        [-1.6054e+00,  1.1666e-01, -2.8253e-01,  ...,  1.0049e+00,\n",
       "         -9.6251e-01,  1.8574e+00],\n",
       "        [-1.0129e+00, -6.7703e-01,  3.7852e-01,  ...,  4.7505e-01,\n",
       "         -1.4882e+00,  1.0448e+00]])"
      ]
     },
     "execution_count": 57,
     "metadata": {},
     "output_type": "execute_result"
    }
   ],
   "source": [
    "# normalizing the data\n",
    "data_normalized = (data - data_mean) / torch.sqrt(data_var)\n",
    "data_normalized"
   ]
  },
  {
   "cell_type": "code",
   "execution_count": 58,
   "metadata": {},
   "outputs": [
    {
     "data": {
      "text/plain": [
       "(tensor(1.2235e-07), tensor(0.9999))"
      ]
     },
     "execution_count": 58,
     "metadata": {},
     "output_type": "execute_result"
    }
   ],
   "source": [
    "# remember, normalized data has a mean of 0 and a standard deviation of 1\n",
    "data_normalized.mean(), data_normalized.std()"
   ]
  },
  {
   "cell_type": "markdown",
   "metadata": {},
   "source": [
    "### Finding Thresholds\n",
    "Even without a neural network, we can start to look into the data."
   ]
  },
  {
   "cell_type": "code",
   "execution_count": 59,
   "metadata": {},
   "outputs": [
    {
     "data": {
      "text/plain": [
       "(torch.Size([4898]), torch.bool, tensor(20))"
      ]
     },
     "execution_count": 59,
     "metadata": {},
     "output_type": "execute_result"
    }
   ],
   "source": [
    "bad_indexes = target <= 3 # a boolean filter where scores lower than 3 are true\n",
    "bad_indexes.shape, bad_indexes.dtype, bad_indexes.sum() # the sum will let us know how many bad wines there are"
   ]
  },
  {
   "cell_type": "code",
   "execution_count": 60,
   "metadata": {},
   "outputs": [
    {
     "data": {
      "text/plain": [
       "torch.Size([20, 11])"
      ]
     },
     "execution_count": 60,
     "metadata": {},
     "output_type": "execute_result"
    }
   ],
   "source": [
    "# we can now apply the boolean mask to the data to return only the info. for the bad wines\n",
    "bad_data = data[bad_indexes]\n",
    "bad_data.shape"
   ]
  },
  {
   "cell_type": "code",
   "execution_count": 61,
   "metadata": {},
   "outputs": [
    {
     "name": "stdout",
     "output_type": "stream",
     "text": [
      "   property                  bad      mid     good      \n",
      "   --------------            ---      ---     ----      \n",
      " 0 fixed acidity            7.60     6.89     6.73\n",
      " 1 volatile acidity         0.33     0.28     0.27\n",
      " 2 citric acid              0.34     0.34     0.33\n",
      " 3 residual sugar           6.39     6.71     5.26\n",
      " 4 chlorides                0.05     0.05     0.04\n",
      " 5 free sulfur dioxide     53.33    35.42    34.55\n",
      " 6 total sulfur dioxide   170.60   141.83   125.25\n",
      " 7 density                  0.99     0.99     0.99\n",
      " 8 pH                       3.19     3.18     3.22\n",
      " 9 sulphates                0.47     0.49     0.50\n",
      "10 alcohol                 10.34    10.26    11.42\n"
     ]
    }
   ],
   "source": [
    "# sorting the data into bad, mid, and good - we can shorthand the above steps\n",
    "bad_data = data[target <= 3]\n",
    "mid_data = data[(target > 3) & (target <7)]\n",
    "good_data = data[target >= 7]\n",
    "\n",
    "#getting the mean value for the good, the bad, and the mid\n",
    "bad_mean = torch.mean(bad_data, dim=0)\n",
    "mid_mean = torch.mean(mid_data, dim=0)\n",
    "good_mean = torch.mean(good_data, dim=0)\n",
    "\n",
    "#printing out the mean for each chemical property\n",
    "print('{:2} {:25} {:8} {:7} {:10}'.format(\" \", \"property\", \"bad\", \"mid\", \"good\"))\n",
    "print('{:2} {:25} {:8} {:7} {:10}'.format(\" \", \"--------------\", \"---\", \"---\", \"----\"))\n",
    "for i, args in enumerate(zip(col_list, bad_mean, mid_mean, good_mean)):\n",
    "    print('{:2} {:20} {:8.2f} {:8.2f} {:8.2f}'.format(i, *args))"
   ]
  },
  {
   "cell_type": "markdown",
   "metadata": {},
   "source": [
    "From the above it looks like *total sulfur dioxide* plays a large role in determining whats a good and whats a bad wine. We can use the threshold of the mid-mean, 141.83 to naively predict good wines."
   ]
  },
  {
   "cell_type": "code",
   "execution_count": 62,
   "metadata": {},
   "outputs": [
    {
     "data": {
      "text/plain": [
       "(torch.Size([4898]), torch.bool, tensor(2727))"
      ]
     },
     "execution_count": 62,
     "metadata": {},
     "output_type": "execute_result"
    }
   ],
   "source": [
    "sulfur_threshold = 141.83\n",
    "total_sulfur_data = data[:, 6] # total sulfur dioxide column for every row\n",
    "\n",
    "# torch.lt() computes input < other element wise\n",
    "predicted_indices = torch.lt(total_sulfur_data, sulfur_threshold)\n",
    "\n",
    "predicted_indices.shape, predicted_indices.dtype, predicted_indices.sum()"
   ]
  },
  {
   "cell_type": "markdown",
   "metadata": {},
   "source": [
    "The above test predicts that the data set contains 4898 good wines, when in reality there are about 500 more. NNs and basic machine learning techniques could improve this prediction a lot!"
   ]
  },
  {
   "cell_type": "markdown",
   "metadata": {},
   "source": [
    "---\n",
    "# When to Categorize\n",
    "Usually, you will treat your data as categorical and drop the the ordering, or continuous (but that introduces an arbitrary notion of distance). See below for general guidelines."
   ]
  },
  {
   "attachments": {
    "data_categorization.png": {
     "image/png": "[encoded data removed]"
    }
   },
   "cell_type": "markdown",
   "metadata": {},
   "source": [
    "![data_categorization.png](attachment:data_categorization.png)"
   ]
  },
  {
   "cell_type": "markdown",
   "metadata": {},
   "source": [
    "# Working with time series data\n",
    "We will be working with a hourly counting of bike-share rentals. Found [here](https://archive.ics.uci.edu/dataset/275/bike+sharing+dataset.)"
   ]
  },
  {
   "cell_type": "markdown",
   "metadata": {},
   "source": [
    "### Adding a time dimension - importing the data\n",
    "Our data is organized by row per hour. We want to re-organize this to have one axis that increases per day, a second axis that represents the hour per day, and a third axis that contains the columns of data such as weather, temperature, etc."
   ]
  },
  {
   "cell_type": "code",
   "execution_count": 63,
   "metadata": {},
   "outputs": [
    {
     "data": {
      "text/plain": [
       "tensor([[1.0000e+00, 1.0000e+00, 1.0000e+00,  ..., 3.0000e+00, 1.3000e+01,\n",
       "         1.6000e+01],\n",
       "        [2.0000e+00, 1.0000e+00, 1.0000e+00,  ..., 8.0000e+00, 3.2000e+01,\n",
       "         4.0000e+01],\n",
       "        [3.0000e+00, 1.0000e+00, 1.0000e+00,  ..., 5.0000e+00, 2.7000e+01,\n",
       "         3.2000e+01],\n",
       "        ...,\n",
       "        [1.7377e+04, 3.1000e+01, 1.0000e+00,  ..., 7.0000e+00, 8.3000e+01,\n",
       "         9.0000e+01],\n",
       "        [1.7378e+04, 3.1000e+01, 1.0000e+00,  ..., 1.3000e+01, 4.8000e+01,\n",
       "         6.1000e+01],\n",
       "        [1.7379e+04, 3.1000e+01, 1.0000e+00,  ..., 1.2000e+01, 3.7000e+01,\n",
       "         4.9000e+01]])"
      ]
     },
     "execution_count": 63,
     "metadata": {},
     "output_type": "execute_result"
    }
   ],
   "source": [
    "# loading the data\n",
    "bikes_np = np.loadtxt(\"data/bike_share/hours.csv\",\n",
    "                      dtype=np.float32,\n",
    "                      delimiter=',',\n",
    "                      skiprows=1,\n",
    "                      converters={1: lambda x: float(x[8:10])})\n",
    "                    #  last argument lambda converts date strings to nums corresponding to day of month in column 1\n",
    "\n",
    "bikes = torch.from_numpy(bikes_np)\n",
    "bikes"
   ]
  },
  {
   "cell_type": "markdown",
   "metadata": {},
   "source": [
    "We are going to batch our data into 24 hour sections, let's see what our data initially looks like in shape and stride."
   ]
  },
  {
   "cell_type": "code",
   "execution_count": 64,
   "metadata": {},
   "outputs": [
    {
     "data": {
      "text/plain": [
       "(torch.Size([17520, 17]), (17, 1))"
      ]
     },
     "execution_count": 64,
     "metadata": {},
     "output_type": "execute_result"
    }
   ],
   "source": [
    "bikes.shape, bikes.stride()"
   ]
  },
  {
   "cell_type": "code",
   "execution_count": 65,
   "metadata": {},
   "outputs": [
    {
     "data": {
      "text/plain": [
       "(torch.Size([730, 24, 17]), (408, 17, 1))"
      ]
     },
     "execution_count": 65,
     "metadata": {},
     "output_type": "execute_result"
    }
   ],
   "source": [
    "# reshaping the data into 24 hour chunks\n",
    "daily_bikes = bikes.view(-1, 24, bikes.shape[1])\n",
    "daily_bikes.shape, daily_bikes.stride()"
   ]
  },
  {
   "cell_type": "markdown",
   "metadata": {},
   "source": [
    "For the above we can create a *view* of the pT *storage*. We can effectively create a new tensor for zero computational cost! <br><br>\n",
    "When you use a `-1` in the shape input of `tensor.view(<shape>)`, tF treats it as a placeholder. We are essentially saying, create a tensor of 17 columns, in 24 rows, in however many chunks result from that organization."
   ]
  },
  {
   "cell_type": "markdown",
   "metadata": {},
   "source": [
    "We want to get a tensor shape of N x C x L where:\n",
    "* N sequences of 24 hours (AKA the days)\n",
    "* C channels for our data (AKA the data variables)\n",
    "* L hours per day"
   ]
  },
  {
   "cell_type": "code",
   "execution_count": 66,
   "metadata": {},
   "outputs": [
    {
     "data": {
      "text/plain": [
       "(torch.Size([730, 17, 24]), (408, 1, 17))"
      ]
     },
     "execution_count": 66,
     "metadata": {},
     "output_type": "execute_result"
    }
   ],
   "source": [
    "#transposing dimensions 1 and 2\n",
    "daily_bikes = daily_bikes.transpose(1, 2)\n",
    "daily_bikes.shape, daily_bikes.stride()"
   ]
  },
  {
   "cell_type": "markdown",
   "metadata": {},
   "source": [
    "### Getting the data ready for training\n",
    "The *weather situation* variable is ordinal. It has four levels (1 for good weather, ranging to 4 for bad weather). If we ddecided to treat this variable as categorical, we would on-hot-encode this vector and then concatenate the columns with the dataset.<br>\n",
    "We will start by looking just at the first day to more easily render our data."
   ]
  },
  {
   "cell_type": "code",
   "execution_count": 67,
   "metadata": {},
   "outputs": [
    {
     "data": {
      "text/plain": [
       "torch.Size([24, 17])"
      ]
     },
     "execution_count": 67,
     "metadata": {},
     "output_type": "execute_result"
    }
   ],
   "source": [
    "#we're back to using the data not organized by day so we can do a simple slice for the first 24 hours\n",
    "first_day = bikes[:24].long()\n",
    "first_day.shape"
   ]
  },
  {
   "cell_type": "code",
   "execution_count": 68,
   "metadata": {},
   "outputs": [
    {
     "data": {
      "text/plain": [
       "tensor([1, 1, 1, 1, 1, 2, 1, 1, 1, 1, 1, 1, 1, 2, 2, 2, 2, 2, 3, 3, 2, 2, 2, 2])"
      ]
     },
     "execution_count": 68,
     "metadata": {},
     "output_type": "execute_result"
    }
   ],
   "source": [
    "weather_onehot = torch.zeros(first_day.shape[0], 4) #create 24 rows of 4 0s vectors\n",
    "\n",
    "first_day[:, 9] # check the weather score for all the first 24 hours"
   ]
  },
  {
   "cell_type": "code",
   "execution_count": 69,
   "metadata": {},
   "outputs": [
    {
     "data": {
      "text/plain": [
       "tensor([[1., 0., 0., 0.],\n",
       "        [1., 0., 0., 0.],\n",
       "        [1., 0., 0., 0.],\n",
       "        [1., 0., 0., 0.],\n",
       "        [1., 0., 0., 0.],\n",
       "        [0., 1., 0., 0.],\n",
       "        [1., 0., 0., 0.],\n",
       "        [1., 0., 0., 0.],\n",
       "        [1., 0., 0., 0.],\n",
       "        [1., 0., 0., 0.],\n",
       "        [1., 0., 0., 0.],\n",
       "        [1., 0., 0., 0.],\n",
       "        [1., 0., 0., 0.],\n",
       "        [0., 1., 0., 0.],\n",
       "        [0., 1., 0., 0.],\n",
       "        [0., 1., 0., 0.],\n",
       "        [0., 1., 0., 0.],\n",
       "        [0., 1., 0., 0.],\n",
       "        [0., 0., 1., 0.],\n",
       "        [0., 0., 1., 0.],\n",
       "        [0., 1., 0., 0.],\n",
       "        [0., 1., 0., 0.],\n",
       "        [0., 1., 0., 0.],\n",
       "        [0., 1., 0., 0.]])"
      ]
     },
     "execution_count": 69,
     "metadata": {},
     "output_type": "execute_result"
    }
   ],
   "source": [
    "# scatter ones into our weather_onehot matrix\n",
    "#use unsqueeze to put each weather value into it's own dimension to match data\n",
    "weather_onehot.scatter_(\n",
    "    dim=1,\n",
    "    index=first_day[:, 9].unsqueeze(1).long() - 1, #decrease val by 1 to translate 1->4 to 0 based indices\n",
    "    value=1.0)"
   ]
  },
  {
   "cell_type": "code",
   "execution_count": 70,
   "metadata": {},
   "outputs": [
    {
     "data": {
      "text/plain": [
       "torch.Size([24, 21])"
      ]
     },
     "execution_count": 70,
     "metadata": {},
     "output_type": "execute_result"
    }
   ],
   "source": [
    "#concatenate the one_hot matrix to the original dataset\n",
    "concat = torch.cat((bikes[:24], weather_onehot), 1)\n",
    "concat.shape\n",
    "# in the above, you can see we are concatinating the first 24 hours of the bikes data set with the weather_onehot\n",
    "# the second argument, 1, is the dimension over which the tensors are concatenated. ie. concatenated along the row dim."
   ]
  },
  {
   "cell_type": "markdown",
   "metadata": {},
   "source": [
    "### Concatenating the One-hot weather data to our reshaped daily-bikes tensor"
   ]
  },
  {
   "cell_type": "code",
   "execution_count": 71,
   "metadata": {},
   "outputs": [
    {
     "data": {
      "text/plain": [
       "torch.Size([730, 4, 24])"
      ]
     },
     "execution_count": 71,
     "metadata": {},
     "output_type": "execute_result"
    }
   ],
   "source": [
    "# create zeros tensor shaped by day sample X 4 zeros X 24 hours\n",
    "# corresponds to our daily_bikes shape of: day sample X 17 channels X 24 hours (N,C,L)\n",
    "daily_onehot = torch.zeros(daily_bikes.shape[0], 4, daily_bikes.shape[2])\n",
    "daily_onehot.shape"
   ]
  },
  {
   "cell_type": "code",
   "execution_count": 72,
   "metadata": {},
   "outputs": [
    {
     "data": {
      "text/plain": [
       "(tensor([1., 0., 0., 0.]), tensor([1., 0., 0., 0.]))"
      ]
     },
     "execution_count": 72,
     "metadata": {},
     "output_type": "execute_result"
    }
   ],
   "source": [
    "#then we scatter the one-hot encoding into the tensor in the C dimension\n",
    "daily_onehot.scatter_(\n",
    "    1, #dimension\n",
    "    daily_bikes[:,9,:].long().unsqueeze(1) - 1, #the index of the scatter. In this case the rank -1 -> index\n",
    "    1.0) # the value we want to scatter in\n",
    "\n",
    "daily_onehot[0,:,0], daily_onehot[-1, :, -1] #checking the one-hot encoding for the first and last moments"
   ]
  },
  {
   "cell_type": "code",
   "execution_count": 73,
   "metadata": {},
   "outputs": [
    {
     "data": {
      "text/plain": [
       "torch.Size([730, 21, 24])"
      ]
     },
     "execution_count": 73,
     "metadata": {},
     "output_type": "execute_result"
    }
   ],
   "source": [
    "# concatenate along the C dimension (1)\n",
    "daily_bikes = torch.cat((daily_bikes, daily_onehot), dim=1)\n",
    "daily_bikes.shape # we can see the size of 21 in C, so the concatenation gave us the result we expect"
   ]
  },
  {
   "cell_type": "markdown",
   "metadata": {},
   "source": [
    "### Rescaling Variables in the daily bike data\n",
    "There are two ways we could scale the 'temp' column.\n",
    "* remap their value to a range [0,1]\n",
    "* subtract the mean and divide by the std dev."
   ]
  },
  {
   "cell_type": "code",
   "execution_count": 74,
   "metadata": {},
   "outputs": [],
   "source": [
    "# remapping temperature values to range [0,1]\n",
    "temp = daily_bikes[:, 10, :]\n",
    "temp_min = torch.min(temp)\n",
    "temp_max = torch.max(temp)\n",
    "\n",
    "bikes_remap = daily_bikes.clone() # remember to clone to avoid side-effects\n",
    "\n",
    "bikes_remap[:, 10, :] = ((daily_bikes[:, 10, :] - temp_min) / (temp_max - temp_min))"
   ]
  },
  {
   "cell_type": "code",
   "execution_count": 75,
   "metadata": {},
   "outputs": [],
   "source": [
    "# subtracting the mean and dividing by std. deviation\n",
    "temp = daily_bikes[:, 10, :]\n",
    "\n",
    "bikes_mean_dev = daily_bikes.clone()\n",
    "bikes_mean_dev[:, 10, :] = ((daily_bikes[:, 10, :] - torch.mean(temp)) / torch.std(temp))"
   ]
  }
 ],
 "metadata": {
  "kernelspec": {
   "display_name": "Python 3",
   "language": "python",
   "name": "python3"
  },
  "language_info": {
   "codemirror_mode": {
    "name": "ipython",
    "version": 3
   },
   "file_extension": ".py",
   "mimetype": "text/x-python",
   "name": "python",
   "nbconvert_exporter": "python",
   "pygments_lexer": "ipython3",
   "version": "3.11.5"
  }
 },
 "nbformat": 4,
 "nbformat_minor": 2
}
