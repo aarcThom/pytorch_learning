{
 "cells": [
  {
   "cell_type": "markdown",
   "metadata": {},
   "source": [
    "A really good explainer on how Neural Networks approximate functions using only linear functions and activation functions is Michael Nielsen's *A visual proof that neural nets can compute any function*. See [this link.](https://neuralnetworksanddeeplearning.com/chap4.html)"
   ]
  },
  {
   "cell_type": "markdown",
   "metadata": {},
   "source": [
    "**MAKE SURE TO ADD NOTES ON ACTIVATION FUNCTIONS ONCE YOU HAVE A BETTER GRASP**"
   ]
  },
  {
   "cell_type": "markdown",
   "metadata": {},
   "source": [
    "# Using PyTorch's NN modules\n",
    "In our previous linear model (chap 05), we wrote a simple linear function to map a line through our data points. Below is the function."
   ]
  },
  {
   "cell_type": "code",
   "execution_count": 19,
   "metadata": {},
   "outputs": [],
   "source": [
    "# where w is the 'weight' and b is the 'bias'\n",
    "def model(unknown_unit, w, b):\n",
    "    return w * unknown_unit + b"
   ]
  },
  {
   "cell_type": "markdown",
   "metadata": {},
   "source": [
    "PyTorch provides *modules* (known as *layers* in other frameworks) in the sub-library `torch.nn`. A PyTorch module is a class deriving from the `torch.nn.Module` base class. A module can have one or more `Parameter` instances as attributes which are the tensors to be optimized during training (in our case *w* and *b*). A module can also have one or more *submodules* which are subclasses of `nn.Module` as attributes and will be able to track their parameters as well. <br><br>\n",
    "If we wanted to replace our above model function, we could use the subclass of `nn.Module`, `nn.Linear`. `nn.Linear` has the following parameters:\n",
    "* in_features(int) - the size of the input.\n",
    "* out_features(int) - the size of the output\n",
    "* bias(bool) - defaults to `True`. If set to `False`, the model will not learn a bias. No *b* parameter!"
   ]
  },
  {
   "cell_type": "markdown",
   "metadata": {},
   "source": [
    "---\n",
    "### A Little tangent on matrix-vector products to help me full understand the above parameters\n"
   ]
  },
  {
   "cell_type": "code",
   "execution_count": 20,
   "metadata": {},
   "outputs": [],
   "source": [
    "import torch\n",
    "import torch.nn as nn # import torch.nn with a convenient alias"
   ]
  },
  {
   "cell_type": "code",
   "execution_count": 28,
   "metadata": {},
   "outputs": [
    {
     "data": {
      "text/plain": [
       "Parameter containing:\n",
       "tensor([[ 0.3005,  0.3781],\n",
       "        [ 0.1356,  0.4321],\n",
       "        [ 0.4837, -0.1394]], requires_grad=True)"
      ]
     },
     "execution_count": 28,
     "metadata": {},
     "output_type": "execute_result"
    }
   ],
   "source": [
    "linear_model = nn.Linear(2,3,False) # input 2D vector, output 3D vector, NO BIAS\n",
    "linear_model.weight # weights are a 3 X 2 matrix"
   ]
  },
  {
   "cell_type": "code",
   "execution_count": null,
   "metadata": {},
   "outputs": [],
   "source": [
    "dummy_input = torch.Tensor([1.0, 2.0]) # the input 2D vector\n"
   ]
  }
 ],
 "metadata": {
  "kernelspec": {
   "display_name": "Python 3",
   "language": "python",
   "name": "python3"
  },
  "language_info": {
   "codemirror_mode": {
    "name": "ipython",
    "version": 3
   },
   "file_extension": ".py",
   "mimetype": "text/x-python",
   "name": "python",
   "nbconvert_exporter": "python",
   "pygments_lexer": "ipython3",
   "version": "3.11.5"
  }
 },
 "nbformat": 4,
 "nbformat_minor": 2
}
