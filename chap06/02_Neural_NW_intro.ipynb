{
 "cells": [
  {
   "cell_type": "markdown",
   "metadata": {},
   "source": [
    "### Replacing the Linear Model\n",
    "We are going to keep all the loss function, data, and optimizer intact. We are however going to replace our linear model with the simplest possible neural network:\n",
    "* a linear module\n",
    "* an activation function\n",
    "* a linear module (fed from above)\n",
    "\n",
    "The first linear layer and the activation function is referred to as a *hidden layer* since its outputs are not observed directly, but fed into the output layer."
   ]
  },
  {
   "cell_type": "markdown",
   "metadata": {},
   "source": [
    "`nn` provides a simple way to concatenate modules through the `nn.Sequential` container:"
   ]
  },
  {
   "cell_type": "code",
   "execution_count": 1,
   "metadata": {},
   "outputs": [
    {
     "data": {
      "text/plain": [
       "Sequential(\n",
       "  (0): Linear(in_features=1, out_features=13, bias=True)\n",
       "  (1): Tanh()\n",
       "  (2): Linear(in_features=13, out_features=1, bias=True)\n",
       ")"
      ]
     },
     "execution_count": 1,
     "metadata": {},
     "output_type": "execute_result"
    }
   ],
   "source": [
    "import torch\n",
    "import torch.nn as nn\n",
    "\n",
    "seq_model = nn.Sequential(\n",
    "            nn.Linear(1, 13), # linear layer, input size =1 , output size = 13\n",
    "            nn.Tanh(),        # tanh activation layer\n",
    "            nn.Linear(13,1))  # output layer, input size = 13, output size = 1\n",
    "\n",
    "seq_model"
   ]
  },
  {
   "cell_type": "markdown",
   "metadata": {},
   "source": [
    "#### Inspecting the parameters in the model\n",
    "Calling `model.parameters()` will collect `weight` and `bias` from both the first and second linear modules."
   ]
  },
  {
   "cell_type": "code",
   "execution_count": 2,
   "metadata": {},
   "outputs": [
    {
     "data": {
      "text/plain": [
       "[torch.Size([13, 1]), torch.Size([13]), torch.Size([1, 13]), torch.Size([1])]"
      ]
     },
     "execution_count": 2,
     "metadata": {},
     "output_type": "execute_result"
    }
   ],
   "source": [
    "[param.shape for param in seq_model.parameters()]"
   ]
  },
  {
   "cell_type": "markdown",
   "metadata": {},
   "source": [
    "#### Using Named Parameters\n",
    "You can inspect the parameters of a model and idenitfy the parameters by name using the method `named_parameters()`"
   ]
  },
  {
   "cell_type": "code",
   "execution_count": 3,
   "metadata": {},
   "outputs": [
    {
     "name": "stdout",
     "output_type": "stream",
     "text": [
      "Parameter 0.weight has a shape of torch.Size([13, 1])\n",
      "Parameter 0.bias has a shape of torch.Size([13])\n",
      "Parameter 2.weight has a shape of torch.Size([1, 13])\n",
      "Parameter 2.bias has a shape of torch.Size([1])\n"
     ]
    }
   ],
   "source": [
    "for name, param in seq_model.named_parameters():\n",
    "    print(f\"Parameter {name} has a shape of {param.shape}\")"
   ]
  },
  {
   "cell_type": "markdown",
   "metadata": {},
   "source": [
    "#### Using Named Modules\n",
    "When creating our network, we can also use the type `OrderedDict` so that we can name each module passed to `nn.Sequential`."
   ]
  },
  {
   "cell_type": "code",
   "execution_count": 4,
   "metadata": {},
   "outputs": [
    {
     "data": {
      "text/plain": [
       "Sequential(\n",
       "  (hidden_linear): Linear(in_features=1, out_features=13, bias=True)\n",
       "  (hidden_activation): Tanh()\n",
       "  (output_linear): Linear(in_features=13, out_features=1, bias=True)\n",
       ")"
      ]
     },
     "execution_count": 4,
     "metadata": {},
     "output_type": "execute_result"
    }
   ],
   "source": [
    "from collections import OrderedDict\n",
    "\n",
    "seq_model = nn.Sequential(OrderedDict([ # pass in an ordered dictionary so we can assign keys to each layer\n",
    "            ('hidden_linear', nn.Linear(1, 13)), \n",
    "            ('hidden_activation', nn.Tanh()),\n",
    "            ('output_linear', nn.Linear(13, 1))\n",
    "]))\n",
    "seq_model"
   ]
  },
  {
   "cell_type": "code",
   "execution_count": 5,
   "metadata": {},
   "outputs": [
    {
     "name": "stdout",
     "output_type": "stream",
     "text": [
      "Parameter hidden_linear.weight has a shape of torch.Size([13, 1])\n",
      "Parameter hidden_linear.bias has a shape of torch.Size([13])\n",
      "Parameter output_linear.weight has a shape of torch.Size([1, 13])\n",
      "Parameter output_linear.bias has a shape of torch.Size([1])\n"
     ]
    }
   ],
   "source": [
    "# this allows us to get more explanatory names for submodules\n",
    "for name, param in seq_model.named_parameters():\n",
    "    print(f\"Parameter {name} has a shape of {param.shape}\")"
   ]
  },
  {
   "cell_type": "markdown",
   "metadata": {},
   "source": [
    "We can also now access a particular submodule, or a particular parameter of a submodule, using the submodule key as an attribute."
   ]
  },
  {
   "cell_type": "code",
   "execution_count": 6,
   "metadata": {},
   "outputs": [
    {
     "data": {
      "text/plain": [
       "Parameter containing:\n",
       "tensor([0.1772], requires_grad=True)"
      ]
     },
     "execution_count": 6,
     "metadata": {},
     "output_type": "execute_result"
    }
   ],
   "source": [
    "seq_model.output_linear.bias"
   ]
  },
  {
   "cell_type": "markdown",
   "metadata": {},
   "source": [
    "### Using the Sequential model\n",
    "First we need to bring back in our training loop and data"
   ]
  },
  {
   "cell_type": "code",
   "execution_count": 7,
   "metadata": {},
   "outputs": [
    {
     "data": {
      "text/plain": [
       "(tensor([[ 6.0000],\n",
       "         [13.0000],\n",
       "         [ 3.0000],\n",
       "         [11.0000],\n",
       "         [15.0000],\n",
       "         [-4.0000],\n",
       "         [ 0.5000],\n",
       "         [21.0000],\n",
       "         [28.0000]]),\n",
       " tensor([[4.8400],\n",
       "         [6.0400],\n",
       "         [3.3900],\n",
       "         [5.6300],\n",
       "         [5.8200],\n",
       "         [2.1800],\n",
       "         [3.5700],\n",
       "         [6.8400],\n",
       "         [8.1900]]),\n",
       " tensor([[ 8.],\n",
       "         [14.]]),\n",
       " tensor([[4.8900],\n",
       "         [5.5900]]))"
      ]
     },
     "execution_count": 7,
     "metadata": {},
     "output_type": "execute_result"
    }
   ],
   "source": [
    "def training_loop(num_epochs, optimizer, model, loss_fn, t_u_train, t_u_val, t_c_train, t_c_val):\n",
    "    for epoch in range(1, num_epochs + 1):\n",
    "        t_p_train = model(t_u_train) # forward pass on training data\n",
    "        loss_train = loss_fn(t_p_train, t_c_train) # evaluating the loss\n",
    "\n",
    "        with torch.no_grad(): # we don't need a graph for validation - switch it off!\n",
    "            t_p_val = model(t_u_val) # evaluating the validation data\n",
    "            loss_val = loss_fn(t_p_val, t_c_val) # calculating loss for validation set\n",
    "\n",
    "        optimizer.zero_grad() # zeroing the gradient\n",
    "        loss_train.backward() # backward pass on loss_train\n",
    "        optimizer.step() # update the parameters\n",
    "\n",
    "        if epoch == 1 or epoch % 1000 == 0:\n",
    "            print(f\"Epoch {epoch}, Training Loss {loss_train.item():.4f}, Validation loss {loss_val.item():.4f}\")\n",
    "\n",
    "\n",
    "# TRAINING DATA -----------------------------------------------------------------------\n",
    "\n",
    "#just copying our split data from the last chapter - t_u already normalized\n",
    "t_c_train = torch.tensor([6.0, 13.0, 3.0, 11.0, 15.0, -4.0, 0.5, 21.0, 28.0])\n",
    "t_u_train = torch.tensor([4.84, 6.04, 3.39, 5.63, 5.82, 2.18, 3.57, 6.84, 8.19])\n",
    "\n",
    "t_c_val = torch.tensor([8.0, 14.0])\n",
    "t_u_val = torch.tensor([4.89, 5.59])\n",
    "\n",
    "# batching the data\n",
    "t_c_train = t_c_train.unsqueeze(1)\n",
    "t_u_train = t_u_train.unsqueeze(1)\n",
    "t_c_val = t_c_val.unsqueeze(1)\n",
    "t_u_val = t_u_val.unsqueeze(1)\n",
    "\n",
    "t_c_train, t_u_train, t_c_val, t_u_val"
   ]
  },
  {
   "cell_type": "markdown",
   "metadata": {},
   "source": [
    "Now we can take our new model for a spin!"
   ]
  },
  {
   "cell_type": "code",
   "execution_count": 8,
   "metadata": {},
   "outputs": [
    {
     "name": "stdout",
     "output_type": "stream",
     "text": [
      "Epoch 1, Training Loss 202.9742, Validation loss 132.7689\n",
      "Epoch 1000, Training Loss 4.8106, Validation loss 1.0434\n",
      "Epoch 2000, Training Loss 4.1011, Validation loss 0.7148\n",
      "Epoch 3000, Training Loss 2.7889, Validation loss 0.6280\n",
      "Epoch 4000, Training Loss 1.9897, Validation loss 1.5756\n",
      "Epoch 5000, Training Loss 1.7294, Validation loss 2.3377\n",
      "output tensor([[ 6.8566],\n",
      "        [11.0422]], grad_fn=<AddmmBackward0>)\n",
      "answer tensor([[ 8.],\n",
      "        [14.]])\n",
      "hidden tensor([[-7.7456e+00],\n",
      "        [-9.7590e-02],\n",
      "        [-1.0181e-01],\n",
      "        [ 8.6522e+00],\n",
      "        [-9.6145e-03],\n",
      "        [-2.0005e-01],\n",
      "        [-8.7142e+00],\n",
      "        [-8.2090e+00],\n",
      "        [ 9.2020e+00],\n",
      "        [-9.6677e+00],\n",
      "        [ 9.2032e-02],\n",
      "        [-1.2771e-01],\n",
      "        [ 8.0314e+00]])\n"
     ]
    }
   ],
   "source": [
    "optimizer = torch.optim.SGD(seq_model.parameters(), lr=1e-3)\n",
    "\n",
    "training_loop(\n",
    "    num_epochs= 5000,\n",
    "    optimizer= optimizer,\n",
    "    model= seq_model,\n",
    "    loss_fn= nn.MSELoss(),\n",
    "    t_u_train= t_u_train,\n",
    "    t_u_val= t_u_val,\n",
    "    t_c_train= t_c_train,\n",
    "    t_c_val= t_c_val)\n",
    "\n",
    "print('output', seq_model(t_u_val))\n",
    "print('answer', t_c_val)\n",
    "print('hidden', seq_model.hidden_linear.weight.grad)"
   ]
  },
  {
   "cell_type": "markdown",
   "metadata": {},
   "source": [
    "#### Comparing to the linear model"
   ]
  },
  {
   "cell_type": "code",
   "execution_count": 9,
   "metadata": {},
   "outputs": [
    {
     "data": {
      "text/plain": [
       "[<matplotlib.lines.Line2D at 0x7fc2fcb05610>]"
      ]
     },
     "execution_count": 9,
     "metadata": {},
     "output_type": "execute_result"
    },
    {
     "data": {
      "image/png": "[encoded data removed]",
      "text/plain": [
       "<Figure size 640x480 with 1 Axes>"
      ]
     },
     "metadata": {},
     "output_type": "display_data"
    }
   ],
   "source": [
    "# Bringing our initial data back in to plot\n",
    "# OUR DATA\n",
    "t_c = [0.5, 14.0, 15.0, 28.0, 11.0, 8.0, 3.0, -4.0, 6.0, 13.0, 21.0] # temps in celcius\n",
    "\n",
    "t_u = [35.7, 55.9, 58.2, 81.9, 56.3, 48.9, 33.9, 21.8, 48.4, 60.4, 68.4] # temps in unknown unit\n",
    "\n",
    "t_c = torch.tensor(t_c)\n",
    "t_u = torch.tensor(t_u)\n",
    "\n",
    "\n",
    "from matplotlib import pyplot as plt\n",
    "\n",
    "t_range = torch.arange(20., 90.).unsqueeze(1)\n",
    "\n",
    "fig = plt.figure(dpi=100)\n",
    "plt.xlabel(\"Fahrenheit\")\n",
    "plt.ylabel(\"Celcius\")\n",
    "\n",
    "plt.plot(t_u.numpy(), t_c.numpy(), 'o')\n",
    "plt.plot(t_range.numpy(), seq_model(0.1 * t_range).detach().numpy(), 'c-')\n"
   ]
  },
  {
   "cell_type": "markdown",
   "metadata": {},
   "source": [
    "### Chapter 6 Exercises\n",
    "1. Experiment with the number of hidden neurons in the neural network, as well as the learning rate.\n",
    "    * what changes result in a more linear model\n",
    "    * can you get the model to obviously overfit"
   ]
  },
  {
   "cell_type": "code",
   "execution_count": 172,
   "metadata": {},
   "outputs": [],
   "source": [
    "# re-writing the training loop so we don't have a ton of output from all the epochs\n",
    "def training_loop(num_epochs, optimizer, model, loss_fn, t_u_train, t_u_val, t_c_train, t_c_val):\n",
    "    for epoch in range(1, num_epochs + 1):\n",
    "        t_p_train = model(t_u_train) # forward pass on training data\n",
    "        loss_train = loss_fn(t_p_train, t_c_train) # evaluating the loss\n",
    "\n",
    "        with torch.no_grad(): # we don't need a graph for validation - switch it off!\n",
    "            t_p_val = model(t_u_val) # evaluating the validation data\n",
    "            loss_val = loss_fn(t_p_val, t_c_val) # calculating loss for validation set\n",
    "\n",
    "        optimizer.zero_grad() # zeroing the gradient\n",
    "        loss_train.backward() # backward pass on loss_train\n",
    "        optimizer.step() # update the parameters\n",
    "\n",
    "        if epoch == 1 or epoch % 100000 == 0:\n",
    "            print(f\"Epoch {epoch}, Training Loss {loss_train.item():.4f}, Validation loss {loss_val.item():.4f}\")\n",
    "\n",
    "\n",
    "\n",
    "# aiming for overfit\n",
    "# Adding more neurons should allow the model to better fit to the training points - leading to an overfit\n",
    "\n",
    "seq_model = nn.Sequential(OrderedDict([ # pass in an ordered dictionary so we can assign keys to each layer\n",
    "            ('hidden_linear', nn.Linear(1, 300)), \n",
    "            ('hidden_activation', nn.Tanh()),\n",
    "            ('output_linear', nn.Linear(300, 1))\n",
    "]))\n",
    "\n",
    "# seq_model.hidden_linear.bias"
   ]
  },
  {
   "cell_type": "code",
   "execution_count": 173,
   "metadata": {},
   "outputs": [
    {
     "name": "stdout",
     "output_type": "stream",
     "text": [
      "Epoch 1, Training Loss 196.6404, Validation loss 126.7119\n",
      "Epoch 100000, Training Loss 1.8570, Validation loss 2.7369\n",
      "Epoch 200000, Training Loss 1.7578, Validation loss 2.9875\n",
      "Epoch 300000, Training Loss 1.6400, Validation loss 3.2553\n",
      "Epoch 400000, Training Loss 1.5112, Validation loss 3.6490\n",
      "Epoch 500000, Training Loss 1.3967, Validation loss 4.1486\n",
      "Epoch 600000, Training Loss 1.3173, Validation loss 4.6650\n",
      "Epoch 700000, Training Loss 1.2732, Validation loss 5.0837\n",
      "Epoch 800000, Training Loss 1.2487, Validation loss 5.3291\n",
      "Epoch 900000, Training Loss 1.2305, Validation loss 5.3950\n",
      "Epoch 1000000, Training Loss 1.2131, Validation loss 5.3994\n"
     ]
    }
   ],
   "source": [
    "optimizer = torch.optim.SGD(seq_model.parameters(), lr=1e-4)\n",
    "\n",
    "training_loop(\n",
    "    num_epochs= 1000000,\n",
    "    optimizer= optimizer,\n",
    "    model= seq_model,\n",
    "    loss_fn= nn.MSELoss(),\n",
    "    t_u_train= t_u_train,\n",
    "    t_u_val= t_u_val,\n",
    "    t_c_train= t_c_train,\n",
    "    t_c_val= t_c_val)"
   ]
  },
  {
   "cell_type": "code",
   "execution_count": 174,
   "metadata": {},
   "outputs": [
    {
     "data": {
      "text/plain": [
       "[<matplotlib.lines.Line2D at 0x7fc2dce688d0>]"
      ]
     },
     "execution_count": 174,
     "metadata": {},
     "output_type": "execute_result"
    },
    {
     "data": {
      "image/png": "[encoded data removed]",
      "text/plain": [
       "<Figure size 640x480 with 1 Axes>"
      ]
     },
     "metadata": {},
     "output_type": "display_data"
    }
   ],
   "source": [
    "fig = plt.figure(dpi=100)\n",
    "plt.xlabel(\"Fahrenheit\")\n",
    "plt.ylabel(\"Celcius\")\n",
    "\n",
    "plt.plot(t_u.numpy(), t_c.numpy(), 'o')\n",
    "plt.plot(t_range.numpy(), seq_model(0.1 * t_range).detach().numpy(), 'c-')"
   ]
  },
  {
   "cell_type": "markdown",
   "metadata": {},
   "source": [
    "### Using a Neural Network on the Wine Data"
   ]
  },
  {
   "cell_type": "code",
   "execution_count": 176,
   "metadata": {},
   "outputs": [
    {
     "data": {
      "text/plain": [
       "array([[ 7.  ,  0.27,  0.36, ...,  0.45,  8.8 ,  6.  ],\n",
       "       [ 6.3 ,  0.3 ,  0.34, ...,  0.49,  9.5 ,  6.  ],\n",
       "       [ 8.1 ,  0.28,  0.4 , ...,  0.44, 10.1 ,  6.  ],\n",
       "       ...,\n",
       "       [ 6.5 ,  0.24,  0.19, ...,  0.46,  9.4 ,  6.  ],\n",
       "       [ 5.5 ,  0.29,  0.3 , ...,  0.38, 12.8 ,  7.  ],\n",
       "       [ 6.  ,  0.21,  0.38, ...,  0.32, 11.8 ,  6.  ]], dtype=float32)"
      ]
     },
     "execution_count": 176,
     "metadata": {},
     "output_type": "execute_result"
    }
   ],
   "source": [
    "# loading the winequality.csv\n",
    "import csv\n",
    "import numpy as np\n",
    "\n",
    "wine_path = \"../chap04/data/winequality.csv\"\n",
    "wineq_np = np.loadtxt(wine_path, dtype=np.float32, delimiter=\";\", skiprows=1)\n",
    "wineq_np"
   ]
  },
  {
   "cell_type": "code",
   "execution_count": 177,
   "metadata": {},
   "outputs": [
    {
     "data": {
      "text/plain": [
       "((4898, 12),\n",
       " ['fixed acidity',\n",
       "  'volatile acidity',\n",
       "  'citric acid',\n",
       "  'residual sugar',\n",
       "  'chlorides',\n",
       "  'free sulfur dioxide',\n",
       "  'total sulfur dioxide',\n",
       "  'density',\n",
       "  'pH',\n",
       "  'sulphates',\n",
       "  'alcohol',\n",
       "  'quality'])"
      ]
     },
     "execution_count": 177,
     "metadata": {},
     "output_type": "execute_result"
    }
   ],
   "source": [
    "# checking the header row against the shape to make sure all data has been read\n",
    "col_list = next(csv.reader(open(wine_path), delimiter=\";\"))\n",
    "\n",
    "wineq_np.shape, col_list"
   ]
  },
  {
   "cell_type": "markdown",
   "metadata": {},
   "source": [
    "So, what I think we need to do is to seperate the quality from all the other elements. We can then map all values of each column from 0 to 1 giving each wine a 11D vector. The output would be a one hot encoded score between 0 and 10 (aka a 10D vector.)"
   ]
  },
  {
   "cell_type": "code",
   "execution_count": 196,
   "metadata": {},
   "outputs": [
    {
     "data": {
      "text/plain": [
       "((4898, 11), (4898, 1))"
      ]
     },
     "execution_count": 196,
     "metadata": {},
     "output_type": "execute_result"
    }
   ],
   "source": [
    "# split out the wine properties from the quality\n",
    "wine_props = wineq_np[:,:-1]\n",
    "wine_quality = wineq_np[:,[-1]]\n",
    "\n",
    "wine_props.shape, wine_quality.shape"
   ]
  },
  {
   "cell_type": "markdown",
   "metadata": {},
   "source": [
    "#### Normalizing the Wine qualities\n",
    "Remember that to normal data we subtract the *mean* ($\\mu$) from each *feature* and then divide by the *standard deviation* ($\\sigma$)."
   ]
  },
  {
   "cell_type": "code",
   "execution_count": 197,
   "metadata": {},
   "outputs": [
    {
     "data": {
      "text/plain": [
       "array([6.8547821e+00, 2.7824137e-01, 3.3419210e-01, 6.3914142e+00,\n",
       "       4.5772403e-02, 3.5308086e+01, 1.3836066e+02, 9.9402541e-01,\n",
       "       3.1882715e+00, 4.8984632e-01, 1.0514250e+01], dtype=float32)"
      ]
     },
     "execution_count": 197,
     "metadata": {},
     "output_type": "execute_result"
    }
   ],
   "source": [
    "properties_mean = np.mean(wine_props, axis=0)\n",
    "properties_mean"
   ]
  },
  {
   "cell_type": "code",
   "execution_count": 199,
   "metadata": {},
   "outputs": [
    {
     "data": {
      "text/plain": [
       "array([8.43779683e-01, 1.00783534e-01, 1.21007159e-01, 5.07154417e+00,\n",
       "       2.18457766e-02, 1.70053997e+01, 4.24937134e+01, 2.99060741e-03,\n",
       "       1.50985211e-01, 1.14113800e-01, 1.23049569e+00], dtype=float32)"
      ]
     },
     "execution_count": 199,
     "metadata": {},
     "output_type": "execute_result"
    }
   ],
   "source": [
    "properties_variance = np.var(wine_props, axis=0)\n",
    "properties_stand_dev = np.sqrt(properties_variance) # standard deviation is the square root of variance\n",
    "properties_stand_dev"
   ]
  },
  {
   "cell_type": "code",
   "execution_count": 200,
   "metadata": {},
   "outputs": [
    {
     "data": {
      "text/plain": [
       "array([[ 1.7210405e-01, -8.1772834e-02,  2.1327595e-01, ...,\n",
       "        -1.2469534e+00, -3.4918064e-01, -1.3931375e+00],\n",
       "       [-6.5749615e-01,  2.1589485e-01,  4.7996387e-02, ...,\n",
       "         7.3999584e-01,  1.3468185e-03, -8.2426113e-01],\n",
       "       [ 1.4757624e+00,  1.7449627e-02,  5.4383487e-01, ...,\n",
       "         4.7506949e-01, -4.3681240e-01, -3.3665249e-01],\n",
       "       ...,\n",
       "       [-4.2046770e-01, -3.7944067e-01, -1.1915997e+00, ...,\n",
       "        -1.3131850e+00, -2.6154864e-01, -9.0552950e-01],\n",
       "       [-1.6056112e+00,  1.1667209e-01, -2.8256249e-01, ...,\n",
       "         1.0049222e+00, -9.6260333e-01,  1.8575851e+00],\n",
       "       [-1.0130395e+00, -6.7710835e-01,  3.7855527e-01, ...,\n",
       "         4.7506949e-01, -1.4883943e+00,  1.0449045e+00]], dtype=float32)"
      ]
     },
     "execution_count": 200,
     "metadata": {},
     "output_type": "execute_result"
    }
   ],
   "source": [
    "normalize_wine_props = (wine_props - properties_mean) / properties_stand_dev\n",
    "normalize_wine_props"
   ]
  },
  {
   "cell_type": "code",
   "execution_count": null,
   "metadata": {},
   "outputs": [],
   "source": []
  }
 ],
 "metadata": {
  "kernelspec": {
   "display_name": "Python 3",
   "language": "python",
   "name": "python3"
  },
  "language_info": {
   "codemirror_mode": {
    "name": "ipython",
    "version": 3
   },
   "file_extension": ".py",
   "mimetype": "text/x-python",
   "name": "python",
   "nbconvert_exporter": "python",
   "pygments_lexer": "ipython3",
   "version": "3.11.5"
  }
 },
 "nbformat": 4,
 "nbformat_minor": 2
}
