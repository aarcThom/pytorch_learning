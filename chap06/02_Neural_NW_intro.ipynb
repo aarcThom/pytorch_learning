{
 "cells": [
  {
   "cell_type": "markdown",
   "metadata": {},
   "source": [
    "### Replacing the Linear Model\n",
    "We are going to keep all the loss function, data, and optimizer intact. We are however going to replace our linear model with the simplest possible neural network:\n",
    "* a linear module\n",
    "* an activation function\n",
    "* a linear module (fed from above)\n",
    "\n",
    "The first linear layer and the activation function is referred to as a *hidden layer* since its outputs are not observed directly, but fed into the output layer."
   ]
  },
  {
   "cell_type": "markdown",
   "metadata": {},
   "source": [
    "`nn` provides a simple way to concatenate modules through the `nn.Sequential` container:"
   ]
  },
  {
   "cell_type": "code",
   "execution_count": 1,
   "metadata": {},
   "outputs": [
    {
     "data": {
      "text/plain": [
       "Sequential(\n",
       "  (0): Linear(in_features=1, out_features=13, bias=True)\n",
       "  (1): Tanh()\n",
       "  (2): Linear(in_features=13, out_features=1, bias=True)\n",
       ")"
      ]
     },
     "execution_count": 1,
     "metadata": {},
     "output_type": "execute_result"
    }
   ],
   "source": [
    "import torch\n",
    "import torch.nn as nn\n",
    "\n",
    "seq_model = nn.Sequential(\n",
    "            nn.Linear(1, 13), # linear layer, input size =1 , output size = 13\n",
    "            nn.Tanh(),        # tanh activation layer\n",
    "            nn.Linear(13,1))  # output layer, input size = 13, output size = 1\n",
    "\n",
    "seq_model"
   ]
  },
  {
   "cell_type": "markdown",
   "metadata": {},
   "source": [
    "#### Inspecting the parameters in the model\n",
    "Calling `model.parameters()` will collect `weight` and `bias` from both the first and second linear modules."
   ]
  },
  {
   "cell_type": "code",
   "execution_count": 2,
   "metadata": {},
   "outputs": [
    {
     "data": {
      "text/plain": [
       "[torch.Size([13, 1]), torch.Size([13]), torch.Size([1, 13]), torch.Size([1])]"
      ]
     },
     "execution_count": 2,
     "metadata": {},
     "output_type": "execute_result"
    }
   ],
   "source": [
    "[param.shape for param in seq_model.parameters()]"
   ]
  },
  {
   "cell_type": "markdown",
   "metadata": {},
   "source": [
    "#### Using Named Parameters\n",
    "You can inspect the parameters of a model and idenitfy the parameters by name using the method `named_parameters()`"
   ]
  },
  {
   "cell_type": "code",
   "execution_count": 4,
   "metadata": {},
   "outputs": [
    {
     "name": "stdout",
     "output_type": "stream",
     "text": [
      "Parameter 0.weight has a shape of torch.Size([13, 1])\n",
      "Parameter 0.bias has a shape of torch.Size([13])\n",
      "Parameter 2.weight has a shape of torch.Size([1, 13])\n",
      "Parameter 2.bias has a shape of torch.Size([1])\n"
     ]
    }
   ],
   "source": [
    "for name, param in seq_model.named_parameters():\n",
    "    print(f\"Parameter {name} has a shape of {param.shape}\")"
   ]
  },
  {
   "cell_type": "markdown",
   "metadata": {},
   "source": [
    "#### Using Named Modules\n",
    "When creating our network, we can also use the type `OrderedDict` so that we can name each module passed to `nn.Sequential`."
   ]
  },
  {
   "cell_type": "code",
   "execution_count": 5,
   "metadata": {},
   "outputs": [
    {
     "data": {
      "text/plain": [
       "Sequential(\n",
       "  (hidden_linear): Linear(in_features=1, out_features=13, bias=True)\n",
       "  (hidden_activation): Tanh()\n",
       "  (output_linear): Linear(in_features=13, out_features=1, bias=True)\n",
       ")"
      ]
     },
     "execution_count": 5,
     "metadata": {},
     "output_type": "execute_result"
    }
   ],
   "source": [
    "from collections import OrderedDict\n",
    "\n",
    "seq_model = nn.Sequential(OrderedDict([ # pass in an ordered dictionary so we can assign keys to each layer\n",
    "            ('hidden_linear', nn.Linear(1, 13)), \n",
    "            ('hidden_activation', nn.Tanh()),\n",
    "            ('output_linear', nn.Linear(13, 1))\n",
    "]))\n",
    "seq_model"
   ]
  },
  {
   "cell_type": "code",
   "execution_count": 6,
   "metadata": {},
   "outputs": [
    {
     "name": "stdout",
     "output_type": "stream",
     "text": [
      "Parameter hidden_linear.weight has a shape of torch.Size([13, 1])\n",
      "Parameter hidden_linear.bias has a shape of torch.Size([13])\n",
      "Parameter output_linear.weight has a shape of torch.Size([1, 13])\n",
      "Parameter output_linear.bias has a shape of torch.Size([1])\n"
     ]
    }
   ],
   "source": [
    "# this allows us to get more explanatory names for submodules\n",
    "for name, param in seq_model.named_parameters():\n",
    "    print(f\"Parameter {name} has a shape of {param.shape}\")"
   ]
  },
  {
   "cell_type": "markdown",
   "metadata": {},
   "source": [
    "We can also now access a particular submodule, or a particular parameter of a submodule, using the submodule key as an attribute."
   ]
  },
  {
   "cell_type": "code",
   "execution_count": 7,
   "metadata": {},
   "outputs": [
    {
     "data": {
      "text/plain": [
       "Parameter containing:\n",
       "tensor([0.0115], requires_grad=True)"
      ]
     },
     "execution_count": 7,
     "metadata": {},
     "output_type": "execute_result"
    }
   ],
   "source": [
    "seq_model.output_linear.bias"
   ]
  },
  {
   "cell_type": "markdown",
   "metadata": {},
   "source": [
    "### Using the Sequential model\n",
    "First we need to bring back in our training loop and data"
   ]
  },
  {
   "cell_type": "code",
   "execution_count": 8,
   "metadata": {},
   "outputs": [
    {
     "data": {
      "text/plain": [
       "(tensor([[ 6.0000],\n",
       "         [13.0000],\n",
       "         [ 3.0000],\n",
       "         [11.0000],\n",
       "         [15.0000],\n",
       "         [-4.0000],\n",
       "         [ 0.5000],\n",
       "         [21.0000],\n",
       "         [28.0000]]),\n",
       " tensor([[4.8400],\n",
       "         [6.0400],\n",
       "         [3.3900],\n",
       "         [5.6300],\n",
       "         [5.8200],\n",
       "         [2.1800],\n",
       "         [3.5700],\n",
       "         [6.8400],\n",
       "         [8.1900]]),\n",
       " tensor([[ 8.],\n",
       "         [14.]]),\n",
       " tensor([[4.8900],\n",
       "         [5.5900]]))"
      ]
     },
     "execution_count": 8,
     "metadata": {},
     "output_type": "execute_result"
    }
   ],
   "source": [
    "def training_loop(num_epochs, optimizer, model, loss_fn, t_u_train, t_u_val, t_c_train, t_c_val):\n",
    "    for epoch in range(1, num_epochs + 1):\n",
    "        t_p_train = model(t_u_train) # forward pass on training data\n",
    "        loss_train = loss_fn(t_p_train, t_c_train) # evaluating the loss\n",
    "\n",
    "        with torch.no_grad(): # we don't need a graph for validation - switch it off!\n",
    "            t_p_val = model(t_u_val) # evaluating the validation data\n",
    "            loss_val = loss_fn(t_p_val, t_c_val) # calculating loss for validation set\n",
    "\n",
    "        optimizer.zero_grad() # zeroing the gradient\n",
    "        loss_train.backward() # backward pass on loss_train\n",
    "        optimizer.step() # update the parameters\n",
    "\n",
    "        if epoch == 1 or epoch % 1000 == 0:\n",
    "            print(f\"Epoch {epoch}, Training Loss {loss_train.item():.4f}, Validation loss {loss_val.item():.4f}\")\n",
    "\n",
    "\n",
    "# TRAINING DATA -----------------------------------------------------------------------\n",
    "\n",
    "#just copying our split data from the last chapter - t_u already normalized\n",
    "t_c_train = torch.tensor([6.0, 13.0, 3.0, 11.0, 15.0, -4.0, 0.5, 21.0, 28.0])\n",
    "t_u_train = torch.tensor([4.84, 6.04, 3.39, 5.63, 5.82, 2.18, 3.57, 6.84, 8.19])\n",
    "\n",
    "t_c_val = torch.tensor([8.0, 14.0])\n",
    "t_u_val = torch.tensor([4.89, 5.59])\n",
    "\n",
    "# batching the data\n",
    "t_c_train = t_c_train.unsqueeze(1)\n",
    "t_u_train = t_u_train.unsqueeze(1)\n",
    "t_c_val = t_c_val.unsqueeze(1)\n",
    "t_u_val = t_u_val.unsqueeze(1)\n",
    "\n",
    "t_c_train, t_u_train, t_c_val, t_u_val"
   ]
  },
  {
   "cell_type": "markdown",
   "metadata": {},
   "source": [
    "Now we can take our new model for a spin!"
   ]
  },
  {
   "cell_type": "code",
   "execution_count": 9,
   "metadata": {},
   "outputs": [
    {
     "name": "stdout",
     "output_type": "stream",
     "text": [
      "Epoch 1, Training Loss 200.7983, Validation loss 130.0504\n",
      "Epoch 1000, Training Loss 4.0813, Validation loss 1.1596\n",
      "Epoch 2000, Training Loss 3.4043, Validation loss 6.0905\n",
      "Epoch 3000, Training Loss 2.2961, Validation loss 5.9296\n",
      "Epoch 4000, Training Loss 1.8794, Validation loss 5.5609\n",
      "Epoch 5000, Training Loss 1.8574, Validation loss 6.0020\n",
      "output tensor([[ 7.6686],\n",
      "        [12.0101]], grad_fn=<AddmmBackward0>)\n",
      "answer tensor([[ 8.],\n",
      "        [14.]])\n",
      "hidden tensor([[ 2.2372e-01],\n",
      "        [ 1.0629e+01],\n",
      "        [-3.8342e+00],\n",
      "        [ 4.5859e-01],\n",
      "        [ 1.7140e+01],\n",
      "        [-1.2473e+01],\n",
      "        [ 3.3145e-01],\n",
      "        [-1.7277e+01],\n",
      "        [ 1.2325e+01],\n",
      "        [ 1.0736e+01],\n",
      "        [ 4.2180e-03],\n",
      "        [ 2.3779e-01],\n",
      "        [ 2.1052e-02]])\n"
     ]
    }
   ],
   "source": [
    "optimizer = torch.optim.SGD(seq_model.parameters(), lr=1e-3)\n",
    "\n",
    "training_loop(\n",
    "    num_epochs= 5000,\n",
    "    optimizer= optimizer,\n",
    "    model= seq_model,\n",
    "    loss_fn= nn.MSELoss(),\n",
    "    t_u_train= t_u_train,\n",
    "    t_u_val= t_u_val,\n",
    "    t_c_train= t_c_train,\n",
    "    t_c_val= t_c_val)\n",
    "\n",
    "print('output', seq_model(t_u_val))\n",
    "print('answer', t_c_val)\n",
    "print('hidden', seq_model.hidden_linear.weight.grad)"
   ]
  },
  {
   "cell_type": "markdown",
   "metadata": {},
   "source": [
    "#### Comparing to the linear model"
   ]
  },
  {
   "cell_type": "code",
   "execution_count": 15,
   "metadata": {},
   "outputs": [
    {
     "data": {
      "text/plain": [
       "[<matplotlib.lines.Line2D at 0x7f425018f890>]"
      ]
     },
     "execution_count": 15,
     "metadata": {},
     "output_type": "execute_result"
    },
    {
     "data": {
      "image/png": "[encoded data removed]",
      "text/plain": [
       "<Figure size 640x480 with 1 Axes>"
      ]
     },
     "metadata": {},
     "output_type": "display_data"
    }
   ],
   "source": [
    "# Bringing our initial data back in to plot\n",
    "# OUR DATA\n",
    "t_c = [0.5, 14.0, 15.0, 28.0, 11.0, 8.0, 3.0, -4.0, 6.0, 13.0, 21.0] # temps in celcius\n",
    "\n",
    "t_u = [35.7, 55.9, 58.2, 81.9, 56.3, 48.9, 33.9, 21.8, 48.4, 60.4, 68.4] # temps in unknown unit\n",
    "\n",
    "t_c = torch.tensor(t_c)\n",
    "t_u = torch.tensor(t_u)\n",
    "\n",
    "\n",
    "from matplotlib import pyplot as plt\n",
    "\n",
    "t_range = torch.arange(20., 90.).unsqueeze(1)\n",
    "\n",
    "fig = plt.figure(dpi=100)\n",
    "plt.xlabel(\"Fahrenheit\")\n",
    "plt.ylabel(\"Celcius\")\n",
    "\n",
    "plt.plot(t_u.numpy(), t_c.numpy(), 'o')\n",
    "plt.plot(t_range.numpy(), seq_model(0.1 * t_range).detach().numpy(), 'c-')\n"
   ]
  },
  {
   "cell_type": "code",
   "execution_count": null,
   "metadata": {},
   "outputs": [],
   "source": []
  }
 ],
 "metadata": {
  "kernelspec": {
   "display_name": "Python 3",
   "language": "python",
   "name": "python3"
  },
  "language_info": {
   "codemirror_mode": {
    "name": "ipython",
    "version": 3
   },
   "file_extension": ".py",
   "mimetype": "text/x-python",
   "name": "python",
   "nbconvert_exporter": "python",
   "pygments_lexer": "ipython3",
   "version": "3.11.5"
  }
 },
 "nbformat": 4,
 "nbformat_minor": 2
}
